{
 "cells": [
  {
   "cell_type": "code",
   "execution_count": 31,
   "metadata": {},
   "outputs": [],
   "source": [
    "import numpy as np\n",
    "import matplotlib.pyplot as plt\n",
    "import torch\n",
    "import torchvision\n",
    "from torchvision.transforms import transforms\n",
    "from torchvision.datasets import MNIST\n",
    "import torch.nn as nn\n",
    "import torch.nn.functional as F\n",
    "from torch.utils.data import DataLoader\n",
    "from torch.utils.data import SubsetRandomSampler"
   ]
  },
  {
   "cell_type": "code",
   "execution_count": 5,
   "metadata": {},
   "outputs": [],
   "source": [
    "data = MNIST(root ='data/' , download = True)"
   ]
  },
  {
   "cell_type": "code",
   "execution_count": 3,
   "metadata": {},
   "outputs": [
    {
     "data": {
      "text/plain": [
       "60000"
      ]
     },
     "execution_count": 3,
     "metadata": {},
     "output_type": "execute_result"
    }
   ],
   "source": [
    "len(data)"
   ]
  },
  {
   "cell_type": "code",
   "execution_count": 13,
   "metadata": {},
   "outputs": [
    {
     "name": "stdout",
     "output_type": "stream",
     "text": [
      "5\n"
     ]
    }
   ],
   "source": [
    "img , label = data[0]\n",
    "print (label)"
   ]
  },
  {
   "cell_type": "code",
   "execution_count": 14,
   "metadata": {},
   "outputs": [
    {
     "data": {
      "text/plain": [
       "10000"
      ]
     },
     "execution_count": 14,
     "metadata": {},
     "output_type": "execute_result"
    }
   ],
   "source": [
    "test_data=MNIST(root='data/' , train=False)\n",
    "len(test_data)"
   ]
  },
  {
   "cell_type": "code",
   "execution_count": 16,
   "metadata": {},
   "outputs": [
    {
     "data": {
      "text/plain": [
       "(<PIL.Image.Image image mode=L size=28x28 at 0x1DE87ECA508>, 5)"
      ]
     },
     "execution_count": 16,
     "metadata": {},
     "output_type": "execute_result"
    }
   ],
   "source": [
    "data[0]"
   ]
  },
  {
   "cell_type": "code",
   "execution_count": 18,
   "metadata": {},
   "outputs": [
    {
     "name": "stdout",
     "output_type": "stream",
     "text": [
      "Label: 2\n"
     ]
    },
    {
     "data": {
      "image/png": "[encoded data removed]",
      "text/plain": [
       "<Figure size 432x288 with 1 Axes>"
      ]
     },
     "metadata": {
      "needs_background": "light"
     },
     "output_type": "display_data"
    }
   ],
   "source": [
    "img,label=data[5]\n",
    "plt.imshow(img,cmap='gray')\n",
    "print('Label:',label)"
   ]
  },
  {
   "cell_type": "code",
   "execution_count": 19,
   "metadata": {},
   "outputs": [
    {
     "name": "stdout",
     "output_type": "stream",
     "text": [
      "Label: 3\n"
     ]
    },
    {
     "data": {
      "image/png": "[encoded data removed]",
      "text/plain": [
       "<Figure size 432x288 with 1 Axes>"
      ]
     },
     "metadata": {
      "needs_background": "light"
     },
     "output_type": "display_data"
    }
   ],
   "source": [
    "img,label=data[10]\n",
    "plt.imshow(img,cmap='gray')\n",
    "print('Label:',label)"
   ]
  },
  {
   "cell_type": "code",
   "execution_count": 25,
   "metadata": {},
   "outputs": [],
   "source": [
    "data = MNIST(root = 'data/' , \n",
    "                   train = True,\n",
    "                   transform = transforms.ToTensor())"
   ]
  },
  {
   "cell_type": "code",
   "execution_count": 29,
   "metadata": {},
   "outputs": [
    {
     "name": "stdout",
     "output_type": "stream",
     "text": [
      "torch.Size([1, 28, 28]) 5\n"
     ]
    }
   ],
   "source": [
    "image,label = data[0]\n",
    "print(image.shape,label)"
   ]
  },
  {
   "cell_type": "code",
   "execution_count": 30,
   "metadata": {},
   "outputs": [
    {
     "name": "stdout",
     "output_type": "stream",
     "text": [
      "tensor([[[0.0039, 0.6039, 0.9922, 0.3529, 0.0000],\n",
      "         [0.0000, 0.5451, 0.9922, 0.7451, 0.0078],\n",
      "         [0.0000, 0.0431, 0.7451, 0.9922, 0.2745],\n",
      "         [0.0000, 0.0000, 0.1373, 0.9451, 0.8824],\n",
      "         [0.0000, 0.0000, 0.0000, 0.3176, 0.9412]]])\n",
      "tensor(1.) tensor(0.)\n"
     ]
    }
   ],
   "source": [
    "print(image[:,10:15,10:15])\n",
    "print(torch.max(image),torch.min(image))"
   ]
  },
  {
   "cell_type": "code",
   "execution_count": 32,
   "metadata": {},
   "outputs": [],
   "source": [
    "class mnist_model(nn.Module):\n",
    "    def __init__(self , input_size , hidden_size , output_size):\n",
    "        super().__init__()\n",
    "        self.linear1 = nn.Linear(input_size , hidden_size)\n",
    "        self.linear2 = nn.Linear(hidden_size , output_size)\n",
    "        \n",
    "    def forward(self , xb):\n",
    "        xb = xb.reshape(xb.size(0) , -1)\n",
    "        out = self.linear1(xb)\n",
    "        out = F.relu(out)\n",
    "        out = self.linear2(out)\n",
    "        return out\n",
    "    \n",
    "model = mnist_model(784 , 32 , 10)"
   ]
  },
  {
   "cell_type": "code",
   "execution_count": 33,
   "metadata": {},
   "outputs": [],
   "source": [
    "loss_function = F.cross_entropy"
   ]
  },
  {
   "cell_type": "code",
   "execution_count": 34,
   "metadata": {},
   "outputs": [],
   "source": [
    "optimizer = torch.optim.Adam(model.parameters() , lr = 1e-1)"
   ]
  },
  {
   "cell_type": "code",
   "execution_count": 35,
   "metadata": {},
   "outputs": [],
   "source": [
    "def split_index(dataset_size , split_percent):\n",
    "    split_size = int(dataset_size * split_percent)\n",
    "    random_idx = np.random.permutation(dataset_size)\n",
    "    \n",
    "    return random_idx[:split_size] , random_idx[split_size:]"
   ]
  },
  {
   "cell_type": "code",
   "execution_count": 36,
   "metadata": {},
   "outputs": [
    {
     "name": "stdout",
     "output_type": "stream",
     "text": [
      "Validation set length : 6000\n",
      "Train set length : 54000\n"
     ]
    }
   ],
   "source": [
    "val_idx , train_idx = split_index(len(mnist_data) , 0.10)  \n",
    "\n",
    "print('Validation set length :' , len(val_idx))\n",
    "print('Train set length :' , len(train_idx))"
   ]
  },
  {
   "cell_type": "code",
   "execution_count": 37,
   "metadata": {},
   "outputs": [],
   "source": [
    "def gpu_device():\n",
    "    if torch.cuda.is_available():\n",
    "        return torch.device('cuda')\n",
    "    \n",
    "    else:\n",
    "        return torch.device('cpu')"
   ]
  },
  {
   "cell_type": "code",
   "execution_count": 38,
   "metadata": {},
   "outputs": [
    {
     "data": {
      "text/plain": [
       "device(type='cpu')"
      ]
     },
     "execution_count": 38,
     "metadata": {},
     "output_type": "execute_result"
    }
   ],
   "source": [
    "device = gpu_device()\n",
    "device"
   ]
  },
  {
   "cell_type": "code",
   "execution_count": 39,
   "metadata": {},
   "outputs": [],
   "source": [
    "def move_to_device(data , device):\n",
    "    if isinstance(data , (list , tuple)):\n",
    "        return [move_to_device(x , device) for x in data]\n",
    "    return data.to(device , non_blocking = True)"
   ]
  },
  {
   "cell_type": "code",
   "execution_count": 40,
   "metadata": {},
   "outputs": [],
   "source": [
    "train_sampler = SubsetRandomSampler(train_idx)\n",
    "train_dl = DataLoader(mnist_data , batch_size = 512, sampler = train_sampler)\n",
    "\n",
    "val_sampler = SubsetRandomSampler(val_idx)\n",
    "val_dl = DataLoader(mnist_data , batch_size = 512, sampler = val_sampler)"
   ]
  },
  {
   "cell_type": "code",
   "execution_count": 41,
   "metadata": {},
   "outputs": [],
   "source": [
    "class gpu_dataloader():\n",
    "    def __init__(self, dl , device):\n",
    "        self.dl = dl\n",
    "        self.device = device\n",
    "    \n",
    "    def __iter__(self):\n",
    "        for batches in self.dl:\n",
    "            yield move_to_device(batches , self.device)\n",
    "    \n",
    "    def __len__(self):\n",
    "        return len(self.dl)"
   ]
  },
  {
   "cell_type": "code",
   "execution_count": 42,
   "metadata": {},
   "outputs": [],
   "source": [
    "train_dataloader = gpu_dataloader(train_dl , device)\n",
    "val_dataloader = gpu_dataloader(val_dl , device)"
   ]
  },
  {
   "cell_type": "code",
   "execution_count": 43,
   "metadata": {},
   "outputs": [],
   "source": [
    "def accuracy(outputs, labels):\n",
    "    _, preds = torch.max(outputs, dim=1)\n",
    "    return torch.tensor(torch.sum(preds == labels).item() / len(preds))"
   ]
  },
  {
   "cell_type": "code",
   "execution_count": 44,
   "metadata": {},
   "outputs": [],
   "source": [
    "def fit(model , train_dl , val_dl , loss_func , optim , num_epochs):\n",
    "    \n",
    "    acc = []\n",
    "    losses = []\n",
    "    for epochs in range(num_epochs):\n",
    "        \n",
    "        for xb , yb in train_dl:\n",
    "            ## making prediction\n",
    "            pred = model(xb)\n",
    "            \n",
    "            ## calculating loss function\n",
    "            loss = loss_func(pred , yb)\n",
    "    \n",
    "            ##calculating gradients\n",
    "            loss.backward()\n",
    "    \n",
    "            ##one step of optimization\n",
    "            optim.step()\n",
    "    \n",
    "            ##reset the gradient\n",
    "            optim.zero_grad()\n",
    "            \n",
    "        for val_x , val_y in val_dl:\n",
    "            \n",
    "            with torch.no_grad():\n",
    "                \n",
    "                ##calculating the prediction\n",
    "                \n",
    "                val_pred = model(val_x)\n",
    "                \n",
    "                val_loss = loss_func(val_pred , val_y)\n",
    "                \n",
    "                ##storing the validation loss\n",
    "                losses.append(val_loss)\n",
    "                \n",
    "                ##getting accuracy\n",
    "                res = accuracy(F.softmax(val_pred , dim = 1) , val_y)\n",
    "                \n",
    "                ##storing the accuracy\n",
    "                acc.append(res)\n",
    "                \n",
    "        print('Epochs [ {} / {}] :- Loss : {:.4f} , Accuracy : {:.4f}'.format(epochs + 1 , num_epochs , val_loss , res))\n",
    "        \n",
    "    return acc , losses"
   ]
  },
  {
   "cell_type": "code",
   "execution_count": 45,
   "metadata": {},
   "outputs": [],
   "source": [
    "model = move_to_device(model , device)"
   ]
  },
  {
   "cell_type": "code",
   "execution_count": 46,
   "metadata": {},
   "outputs": [
    {
     "data": {
      "text/plain": [
       "False"
      ]
     },
     "execution_count": 46,
     "metadata": {},
     "output_type": "execute_result"
    }
   ],
   "source": [
    "next(model.parameters()).is_cuda "
   ]
  },
  {
   "cell_type": "code",
   "execution_count": 47,
   "metadata": {},
   "outputs": [
    {
     "name": "stdout",
     "output_type": "stream",
     "text": [
      "Epochs [ 1 / 20] :- Loss : 0.6146 , Accuracy : 0.8152\n",
      "Epochs [ 2 / 20] :- Loss : 0.4879 , Accuracy : 0.8913\n",
      "Epochs [ 3 / 20] :- Loss : 0.2853 , Accuracy : 0.9022\n",
      "Epochs [ 4 / 20] :- Loss : 0.2794 , Accuracy : 0.9212\n",
      "Epochs [ 5 / 20] :- Loss : 0.5051 , Accuracy : 0.8832\n",
      "Epochs [ 6 / 20] :- Loss : 0.3939 , Accuracy : 0.9076\n",
      "Epochs [ 7 / 20] :- Loss : 0.3091 , Accuracy : 0.9212\n",
      "Epochs [ 8 / 20] :- Loss : 0.3985 , Accuracy : 0.9076\n",
      "Epochs [ 9 / 20] :- Loss : 0.3835 , Accuracy : 0.9049\n",
      "Epochs [ 10 / 20] :- Loss : 0.4132 , Accuracy : 0.9076\n",
      "Epochs [ 11 / 20] :- Loss : 0.2917 , Accuracy : 0.9321\n",
      "Epochs [ 12 / 20] :- Loss : 0.3996 , Accuracy : 0.9239\n",
      "Epochs [ 13 / 20] :- Loss : 0.2451 , Accuracy : 0.9484\n",
      "Epochs [ 14 / 20] :- Loss : 0.3315 , Accuracy : 0.9130\n",
      "Epochs [ 15 / 20] :- Loss : 0.3404 , Accuracy : 0.9239\n",
      "Epochs [ 16 / 20] :- Loss : 0.4239 , Accuracy : 0.8913\n",
      "Epochs [ 17 / 20] :- Loss : 0.3076 , Accuracy : 0.9076\n",
      "Epochs [ 18 / 20] :- Loss : 0.3880 , Accuracy : 0.9266\n",
      "Epochs [ 19 / 20] :- Loss : 0.2866 , Accuracy : 0.9212\n",
      "Epochs [ 20 / 20] :- Loss : 0.3243 , Accuracy : 0.9158\n"
     ]
    }
   ],
   "source": [
    "\n",
    "history = fit(model , train_dataloader , val_dataloader , loss_function , optimizer , 20)"
   ]
  }
 ],
 "metadata": {
  "kernelspec": {
   "display_name": "Python 3",
   "language": "python",
   "name": "python3"
  },
  "language_info": {
   "codemirror_mode": {
    "name": "ipython",
    "version": 3
   },
   "file_extension": ".py",
   "mimetype": "text/x-python",
   "name": "python",
   "nbconvert_exporter": "python",
   "pygments_lexer": "ipython3",
   "version": "3.7.4"
  }
 },
 "nbformat": 4,
 "nbformat_minor": 4
}
