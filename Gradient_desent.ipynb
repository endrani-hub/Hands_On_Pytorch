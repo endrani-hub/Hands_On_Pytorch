{
 "cells": [
  {
   "cell_type": "code",
   "execution_count": 1,
   "metadata": {},
   "outputs": [],
   "source": [
    "import torch\n",
    "import numpy as np"
   ]
  },
  {
   "cell_type": "code",
   "execution_count": 2,
   "metadata": {},
   "outputs": [
    {
     "data": {
      "text/plain": [
       "tensor([[0.1429, 0.2857, 0.4286],\n",
       "        [0.5714, 0.7143, 0.8571],\n",
       "        [1.0000, 0.3247, 0.8831],\n",
       "        [0.4805, 0.4026, 0.5455]])"
      ]
     },
     "execution_count": 2,
     "metadata": {},
     "output_type": "execute_result"
    }
   ],
   "source": [
    "inputs = torch.tensor([[11. , 22. , 33.],\n",
    "                       [44. , 55. , 66.],\n",
    "                       [77. , 25. , 68.],\n",
    "                       [37. , 31. , 42.]])\n",
    "inputs = inputs / torch.max(inputs)\n",
    "inputs"
   ]
  },
  {
   "cell_type": "code",
   "execution_count": 3,
   "metadata": {},
   "outputs": [
    {
     "data": {
      "text/plain": [
       "tensor([[45., 70.],\n",
       "        [27., 57.],\n",
       "        [34., 77.],\n",
       "        [41., 68.]])"
      ]
     },
     "execution_count": 3,
     "metadata": {},
     "output_type": "execute_result"
    }
   ],
   "source": [
    "targets = torch.tensor([[45. , 70.],\n",
    "                        [27. , 57.],\n",
    "                        [34. , 77.],\n",
    "                        [41. , 68.]])\n",
    "targets"
   ]
  },
  {
   "cell_type": "code",
   "execution_count": 4,
   "metadata": {},
   "outputs": [],
   "source": [
    "w = torch.randn(2 , 3 , requires_grad  = True)\n",
    "b = torch.randn(2 , requires_grad = True)"
   ]
  },
  {
   "cell_type": "code",
   "execution_count": 5,
   "metadata": {},
   "outputs": [],
   "source": [
    "def model(inputs):\n",
    "    return inputs @ w.t() + b"
   ]
  },
  {
   "cell_type": "code",
   "execution_count": 6,
   "metadata": {},
   "outputs": [],
   "source": [
    "def mse(t1 , t2):\n",
    "    diff = t2 - t1\n",
    "    return torch.sum(diff * diff) / diff.numel()"
   ]
  },
  {
   "cell_type": "code",
   "execution_count": 7,
   "metadata": {},
   "outputs": [
    {
     "name": "stdout",
     "output_type": "stream",
     "text": [
      "tensor([[ 0.8328, -1.2842],\n",
      "        [ 2.0987, -1.1811],\n",
      "        [ 2.3130,  0.2657],\n",
      "        [ 1.6089, -0.7006]], grad_fn=<AddBackward0>)\n"
     ]
    }
   ],
   "source": [
    "preds = model(inputs)\n",
    "print(preds)"
   ]
  },
  {
   "cell_type": "code",
   "execution_count": 8,
   "metadata": {},
   "outputs": [
    {
     "name": "stdout",
     "output_type": "stream",
     "text": [
      "tensor(3025.1182, grad_fn=<DivBackward0>)\n"
     ]
    }
   ],
   "source": [
    "loss = mse(preds, targets)\n",
    "print(loss)"
   ]
  },
  {
   "cell_type": "code",
   "execution_count": 9,
   "metadata": {},
   "outputs": [],
   "source": [
    "loss.backward()"
   ]
  },
  {
   "cell_type": "code",
   "execution_count": 10,
   "metadata": {},
   "outputs": [
    {
     "name": "stdout",
     "output_type": "stream",
     "text": [
      "tensor([[ 1.9516,  1.5596, -0.5574],\n",
      "        [ 2.5163, -1.0288, -1.2469]], requires_grad=True)\n",
      "tensor([[-17.7885, -14.1382, -22.4356],\n",
      "        [-38.2940, -28.6243, -46.4146]])\n"
     ]
    }
   ],
   "source": [
    "print(w)\n",
    "print(w.grad)"
   ]
  },
  {
   "cell_type": "code",
   "execution_count": 11,
   "metadata": {},
   "outputs": [
    {
     "name": "stdout",
     "output_type": "stream",
     "text": [
      "Epoch : [1 / 50] --> Loss : 3025.1181640625\n",
      "Epoch : [2 / 50] --> Loss : 3002.3427734375\n",
      "Epoch : [3 / 50] --> Loss : 2991.034912109375\n",
      "Epoch : [4 / 50] --> Loss : 2979.771728515625\n",
      "Epoch : [5 / 50] --> Loss : 2968.55419921875\n",
      "Epoch : [6 / 50] --> Loss : 2957.380859375\n",
      "Epoch : [7 / 50] --> Loss : 2946.252197265625\n",
      "Epoch : [8 / 50] --> Loss : 2935.168212890625\n",
      "Epoch : [9 / 50] --> Loss : 2924.128662109375\n",
      "Epoch : [10 / 50] --> Loss : 2913.1328125\n",
      "Epoch : [11 / 50] --> Loss : 2902.18115234375\n",
      "Epoch : [12 / 50] --> Loss : 2891.27294921875\n",
      "Epoch : [13 / 50] --> Loss : 2880.40869140625\n",
      "Epoch : [14 / 50] --> Loss : 2869.58740234375\n",
      "Epoch : [15 / 50] --> Loss : 2858.809814453125\n",
      "Epoch : [16 / 50] --> Loss : 2848.074951171875\n",
      "Epoch : [17 / 50] --> Loss : 2837.383056640625\n",
      "Epoch : [18 / 50] --> Loss : 2826.73388671875\n",
      "Epoch : [19 / 50] --> Loss : 2816.127685546875\n",
      "Epoch : [20 / 50] --> Loss : 2805.56298828125\n",
      "Epoch : [21 / 50] --> Loss : 2795.041015625\n",
      "Epoch : [22 / 50] --> Loss : 2784.56103515625\n",
      "Epoch : [23 / 50] --> Loss : 2774.12255859375\n",
      "Epoch : [24 / 50] --> Loss : 2763.72607421875\n",
      "Epoch : [25 / 50] --> Loss : 2753.371337890625\n",
      "Epoch : [26 / 50] --> Loss : 2743.0576171875\n",
      "Epoch : [27 / 50] --> Loss : 2732.78515625\n",
      "Epoch : [28 / 50] --> Loss : 2722.5537109375\n",
      "Epoch : [29 / 50] --> Loss : 2712.36328125\n",
      "Epoch : [30 / 50] --> Loss : 2702.21337890625\n",
      "Epoch : [31 / 50] --> Loss : 2692.103759765625\n",
      "Epoch : [32 / 50] --> Loss : 2682.034912109375\n",
      "Epoch : [33 / 50] --> Loss : 2672.006103515625\n",
      "Epoch : [34 / 50] --> Loss : 2662.017578125\n",
      "Epoch : [35 / 50] --> Loss : 2652.068603515625\n",
      "Epoch : [36 / 50] --> Loss : 2642.15966796875\n",
      "Epoch : [37 / 50] --> Loss : 2632.2900390625\n",
      "Epoch : [38 / 50] --> Loss : 2622.4599609375\n",
      "Epoch : [39 / 50] --> Loss : 2612.66943359375\n",
      "Epoch : [40 / 50] --> Loss : 2602.91748046875\n",
      "Epoch : [41 / 50] --> Loss : 2593.20458984375\n",
      "Epoch : [42 / 50] --> Loss : 2583.53076171875\n",
      "Epoch : [43 / 50] --> Loss : 2573.8955078125\n",
      "Epoch : [44 / 50] --> Loss : 2564.298583984375\n",
      "Epoch : [45 / 50] --> Loss : 2554.739990234375\n",
      "Epoch : [46 / 50] --> Loss : 2545.219482421875\n",
      "Epoch : [47 / 50] --> Loss : 2535.737060546875\n",
      "Epoch : [48 / 50] --> Loss : 2526.292724609375\n",
      "Epoch : [49 / 50] --> Loss : 2516.885986328125\n",
      "Epoch : [50 / 50] --> Loss : 2507.516845703125\n"
     ]
    }
   ],
   "source": [
    "for epochs in range(50):\n",
    "    pred = model(inputs)\n",
    "    pred.requires_grad_(True)\n",
    "    pred.retain_grad()\n",
    "    loss = mse(pred , targets)\n",
    "    loss.backward()\n",
    "    with torch.no_grad():\n",
    "        w -= (1e-3 * w.grad)\n",
    "        b -= (1e-3 * b.grad)\n",
    "        w.grad.zero_()\n",
    "        b.grad.zero_()\n",
    "\n",
    "    print('Epoch : [{} / {}] --> Loss : {}'.format(epochs + 1, 50 , loss.item()))"
   ]
  }
 ],
 "metadata": {
  "kernelspec": {
   "display_name": "Python 3",
   "language": "python",
   "name": "python3"
  },
  "language_info": {
   "codemirror_mode": {
    "name": "ipython",
    "version": 3
   },
   "file_extension": ".py",
   "mimetype": "text/x-python",
   "name": "python",
   "nbconvert_exporter": "python",
   "pygments_lexer": "ipython3",
   "version": "3.7.4"
  }
 },
 "nbformat": 4,
 "nbformat_minor": 4
}
