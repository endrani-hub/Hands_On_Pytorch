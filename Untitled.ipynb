{
 "cells": [
  {
   "cell_type": "code",
   "execution_count": 1,
   "metadata": {},
   "outputs": [],
   "source": [
    "import numpy as np\n",
    "import matplotlib.pyplot as plt\n",
    "import torch\n",
    "import torchvision\n",
    "from torch import nn\n",
    "from torch.utils.data.dataloader import DataLoader\n",
    "from torch.utils.data.sampler import SubsetRandomSampler\n",
    "from torchvision.datasets import CIFAR10\n",
    "import torchvision.transforms as transforms"
   ]
  },
  {
   "cell_type": "code",
   "execution_count": 2,
   "metadata": {},
   "outputs": [],
   "source": [
    "\n",
    "image_transform = transforms.Compose([transforms.Grayscale(num_output_channels = 1),\n",
    "                                     transforms.ToTensor()])"
   ]
  },
  {
   "cell_type": "code",
   "execution_count": 3,
   "metadata": {},
   "outputs": [
    {
     "name": "stdout",
     "output_type": "stream",
     "text": [
      "Files already downloaded and verified\n"
     ]
    }
   ],
   "source": [
    "cifa_data = CIFAR10(root = '/data',\n",
    "                    transform = image_transform,\n",
    "                    train = True,\n",
    "                    download = True)"
   ]
  },
  {
   "cell_type": "code",
   "execution_count": 4,
   "metadata": {},
   "outputs": [
    {
     "data": {
      "text/plain": [
       "50000"
      ]
     },
     "execution_count": 4,
     "metadata": {},
     "output_type": "execute_result"
    }
   ],
   "source": [
    "len(cifa_data)"
   ]
  },
  {
   "cell_type": "code",
   "execution_count": 5,
   "metadata": {},
   "outputs": [
    {
     "name": "stdout",
     "output_type": "stream",
     "text": [
      "torch.Size([1, 32, 32])\n",
      "6\n"
     ]
    }
   ],
   "source": [
    "x, y = cifa_data[0]\n",
    "print(x.shape)\n",
    "print(y)"
   ]
  },
  {
   "cell_type": "code",
   "execution_count": 36,
   "metadata": {},
   "outputs": [
    {
     "name": "stdout",
     "output_type": "stream",
     "text": [
      "The Label is : 8\n"
     ]
    },
    {
     "data": {
      "image/png": "[encoded data removed]",
      "text/plain": [
       "<Figure size 432x288 with 1 Axes>"
      ]
     },
     "metadata": {
      "needs_background": "light"
     },
     "output_type": "display_data"
    }
   ],
   "source": [
    "img,label = cifa_data[100]\n",
    "img = img.reshape(32,32)\n",
    "plt.imshow(img , cmap  ='gray')\n",
    "print('The Label is :', label)"
   ]
  },
  {
   "cell_type": "code",
   "execution_count": 37,
   "metadata": {},
   "outputs": [
    {
     "name": "stdout",
     "output_type": "stream",
     "text": [
      "The Label is : 5\n"
     ]
    },
    {
     "data": {
      "image/png": "[encoded data removed]",
      "text/plain": [
       "<Figure size 432x288 with 1 Axes>"
      ]
     },
     "metadata": {
      "needs_background": "light"
     },
     "output_type": "display_data"
    }
   ],
   "source": [
    "img , label = cifa_data[500]\n",
    "img = img.reshape(32,32)\n",
    "plt.imshow(img , cmap  ='gray')\n",
    "print('The Label is :', label)\n"
   ]
  },
  {
   "cell_type": "code",
   "execution_count": 7,
   "metadata": {},
   "outputs": [],
   "source": [
    "class cifar_model(nn.Module):\n",
    "    def __init__(self):\n",
    "        super().__init__()\n",
    "        self.linear = nn.Linear(1024 , 10)\n",
    "    def forward(self , x):\n",
    "        x = x.reshape(-1 , 1024)\n",
    "        out = self.linear(x)\n",
    "        return out\n",
    "cifar_model = cifar_model() "
   ]
  },
  {
   "cell_type": "code",
   "execution_count": 8,
   "metadata": {},
   "outputs": [
    {
     "data": {
      "text/plain": [
       "[Parameter containing:\n",
       " tensor([[ 0.0012, -0.0306, -0.0277,  ...,  0.0115, -0.0272, -0.0003],\n",
       "         [ 0.0300,  0.0255,  0.0198,  ..., -0.0283, -0.0173, -0.0189],\n",
       "         [ 0.0191,  0.0142,  0.0047,  ..., -0.0197,  0.0101,  0.0180],\n",
       "         ...,\n",
       "         [-0.0204, -0.0043, -0.0266,  ..., -0.0209, -0.0061, -0.0035],\n",
       "         [ 0.0134, -0.0082, -0.0170,  ...,  0.0039,  0.0258,  0.0264],\n",
       "         [ 0.0211,  0.0277,  0.0101,  ..., -0.0021, -0.0299,  0.0310]],\n",
       "        requires_grad=True),\n",
       " Parameter containing:\n",
       " tensor([-0.0071,  0.0126,  0.0273,  0.0089, -0.0296,  0.0195,  0.0091,  0.0247,\n",
       "          0.0146, -0.0096], requires_grad=True)]"
      ]
     },
     "execution_count": 8,
     "metadata": {},
     "output_type": "execute_result"
    }
   ],
   "source": [
    "\n",
    "list(cifar_model.parameters())"
   ]
  },
  {
   "cell_type": "code",
   "execution_count": 9,
   "metadata": {},
   "outputs": [],
   "source": [
    "def train_val_split(total_len , val_percent):\n",
    "    val_range = int(total_len * val_percent)\n",
    "    shuffled_idx =  np.random.permutation(total_len)\n",
    "    return shuffled_idx[: val_range] , shuffled_idx[val_range: ]"
   ]
  },
  {
   "cell_type": "code",
   "execution_count": 10,
   "metadata": {},
   "outputs": [],
   "source": [
    "total_len = len(cifa_data)\n",
    "val_percent = 0.10\n",
    "\n",
    "val_idx , train_idx = train_val_split(total_len , val_percent)"
   ]
  },
  {
   "cell_type": "code",
   "execution_count": 11,
   "metadata": {},
   "outputs": [
    {
     "name": "stdout",
     "output_type": "stream",
     "text": [
      "5000\n",
      "45000\n"
     ]
    }
   ],
   "source": [
    "print(len(val_idx))\n",
    "print(len(train_idx))"
   ]
  },
  {
   "cell_type": "code",
   "execution_count": 12,
   "metadata": {},
   "outputs": [],
   "source": [
    "train_sampler = SubsetRandomSampler(train_idx)\n",
    "train_dl = DataLoader(cifa_data , batch_size = 512 , sampler = train_sampler)\n",
    "\n",
    "val_sampler = SubsetRandomSampler(val_idx)\n",
    "val_dl = DataLoader(cifa_data , batch_size = 512 , sampler = val_sampler)"
   ]
  },
  {
   "cell_type": "code",
   "execution_count": 13,
   "metadata": {},
   "outputs": [],
   "source": [
    "loss_func = torch.nn.functional.cross_entropy  "
   ]
  },
  {
   "cell_type": "code",
   "execution_count": 15,
   "metadata": {},
   "outputs": [],
   "source": [
    "optim = torch.optim.SGD(cifar_model.parameters() , lr = 1e-3)"
   ]
  },
  {
   "cell_type": "code",
   "execution_count": 16,
   "metadata": {},
   "outputs": [],
   "source": [
    "def accuracy(predicted_val , target):\n",
    "    _,pred = torch.max(predicted_val , axis = 1)\n",
    "    return torch.sum(pred == target).item() / len(target)"
   ]
  },
  {
   "cell_type": "code",
   "execution_count": 17,
   "metadata": {},
   "outputs": [],
   "source": [
    "def fit(model , epochs, dl , loss_func , optim , metric = None):\n",
    "    \n",
    "    for epoch in range(epochs):\n",
    "        \n",
    "        for x , y in dl:\n",
    "            pred = model(x)\n",
    "            loss = loss_func(pred , y)\n",
    "            loss.backward()\n",
    "            optim.step()\n",
    "            optim.zero_grad()\n",
    "        if metric is not None:\n",
    "            acc = accuracy(pred , y)\n",
    "            print('Epochs : {} , Loss : {:.4f} , Accuracy : {:.4f}'.format(epoch + 1 , loss , acc))\n",
    "        else:\n",
    "            print('Epochs : {} , Loss : {:.4f}'.format(epoch + 1 , loss))"
   ]
  },
  {
   "cell_type": "code",
   "execution_count": 19,
   "metadata": {},
   "outputs": [
    {
     "name": "stdout",
     "output_type": "stream",
     "text": [
      "Epochs : 1 , Loss : 2.2891 , Accuracy : 0.1316\n",
      "Epochs : 2 , Loss : 2.2783 , Accuracy : 0.1469\n",
      "Epochs : 3 , Loss : 2.2579 , Accuracy : 0.1798\n",
      "Epochs : 4 , Loss : 2.2587 , Accuracy : 0.1425\n",
      "Epochs : 5 , Loss : 2.2508 , Accuracy : 0.1557\n",
      "Epochs : 6 , Loss : 2.2174 , Accuracy : 0.1886\n",
      "Epochs : 7 , Loss : 2.2178 , Accuracy : 0.1886\n",
      "Epochs : 8 , Loss : 2.2072 , Accuracy : 0.2083\n",
      "Epochs : 9 , Loss : 2.2151 , Accuracy : 0.1908\n",
      "Epochs : 10 , Loss : 2.1902 , Accuracy : 0.2171\n",
      "Epochs : 11 , Loss : 2.1933 , Accuracy : 0.2434\n",
      "Epochs : 12 , Loss : 2.1703 , Accuracy : 0.2368\n",
      "Epochs : 13 , Loss : 2.1762 , Accuracy : 0.2171\n",
      "Epochs : 14 , Loss : 2.1983 , Accuracy : 0.1996\n",
      "Epochs : 15 , Loss : 2.1848 , Accuracy : 0.2237\n",
      "Epochs : 16 , Loss : 2.1722 , Accuracy : 0.2368\n",
      "Epochs : 17 , Loss : 2.1558 , Accuracy : 0.2478\n",
      "Epochs : 18 , Loss : 2.1848 , Accuracy : 0.2061\n",
      "Epochs : 19 , Loss : 2.1632 , Accuracy : 0.2018\n",
      "Epochs : 20 , Loss : 2.1504 , Accuracy : 0.2083\n",
      "Epochs : 21 , Loss : 2.1407 , Accuracy : 0.2259\n",
      "Epochs : 22 , Loss : 2.1237 , Accuracy : 0.2346\n",
      "Epochs : 23 , Loss : 2.1473 , Accuracy : 0.1886\n",
      "Epochs : 24 , Loss : 2.1543 , Accuracy : 0.2083\n",
      "Epochs : 25 , Loss : 2.1456 , Accuracy : 0.2478\n",
      "Epochs : 26 , Loss : 2.1222 , Accuracy : 0.2193\n",
      "Epochs : 27 , Loss : 2.1228 , Accuracy : 0.2412\n",
      "Epochs : 28 , Loss : 2.1528 , Accuracy : 0.2193\n",
      "Epochs : 29 , Loss : 2.1351 , Accuracy : 0.2237\n",
      "Epochs : 30 , Loss : 2.1515 , Accuracy : 0.2434\n",
      "Epochs : 31 , Loss : 2.1108 , Accuracy : 0.2566\n",
      "Epochs : 32 , Loss : 2.1036 , Accuracy : 0.2412\n",
      "Epochs : 33 , Loss : 2.1067 , Accuracy : 0.2500\n",
      "Epochs : 34 , Loss : 2.0920 , Accuracy : 0.2566\n",
      "Epochs : 35 , Loss : 2.1055 , Accuracy : 0.2566\n",
      "Epochs : 36 , Loss : 2.1186 , Accuracy : 0.2346\n",
      "Epochs : 37 , Loss : 2.1250 , Accuracy : 0.2500\n",
      "Epochs : 38 , Loss : 2.1549 , Accuracy : 0.2632\n",
      "Epochs : 39 , Loss : 2.1119 , Accuracy : 0.2390\n",
      "Epochs : 40 , Loss : 2.0984 , Accuracy : 0.2654\n",
      "Epochs : 41 , Loss : 2.0915 , Accuracy : 0.2522\n",
      "Epochs : 42 , Loss : 2.1473 , Accuracy : 0.2303\n",
      "Epochs : 43 , Loss : 2.1787 , Accuracy : 0.2193\n",
      "Epochs : 44 , Loss : 2.1239 , Accuracy : 0.2544\n",
      "Epochs : 45 , Loss : 2.0744 , Accuracy : 0.2917\n",
      "Epochs : 46 , Loss : 2.1026 , Accuracy : 0.2632\n",
      "Epochs : 47 , Loss : 2.1227 , Accuracy : 0.2412\n",
      "Epochs : 48 , Loss : 2.1190 , Accuracy : 0.2566\n",
      "Epochs : 49 , Loss : 2.1102 , Accuracy : 0.2632\n",
      "Epochs : 50 , Loss : 2.1228 , Accuracy : 0.2237\n",
      "Epochs : 51 , Loss : 2.1059 , Accuracy : 0.2544\n",
      "Epochs : 52 , Loss : 2.1152 , Accuracy : 0.2259\n",
      "Epochs : 53 , Loss : 2.1273 , Accuracy : 0.2478\n",
      "Epochs : 54 , Loss : 2.1135 , Accuracy : 0.2193\n",
      "Epochs : 55 , Loss : 2.1047 , Accuracy : 0.2478\n",
      "Epochs : 56 , Loss : 2.0840 , Accuracy : 0.2610\n",
      "Epochs : 57 , Loss : 2.0542 , Accuracy : 0.2873\n",
      "Epochs : 58 , Loss : 2.0936 , Accuracy : 0.2566\n",
      "Epochs : 59 , Loss : 2.1029 , Accuracy : 0.2632\n",
      "Epochs : 60 , Loss : 2.1151 , Accuracy : 0.2434\n",
      "Epochs : 61 , Loss : 2.1128 , Accuracy : 0.2917\n",
      "Epochs : 62 , Loss : 2.0654 , Accuracy : 0.2961\n",
      "Epochs : 63 , Loss : 2.0942 , Accuracy : 0.2434\n",
      "Epochs : 64 , Loss : 2.0743 , Accuracy : 0.2544\n",
      "Epochs : 65 , Loss : 2.0844 , Accuracy : 0.2807\n",
      "Epochs : 66 , Loss : 2.0505 , Accuracy : 0.2961\n",
      "Epochs : 67 , Loss : 2.1018 , Accuracy : 0.2588\n",
      "Epochs : 68 , Loss : 2.1209 , Accuracy : 0.2281\n",
      "Epochs : 69 , Loss : 2.0820 , Accuracy : 0.2741\n",
      "Epochs : 70 , Loss : 2.1105 , Accuracy : 0.2083\n",
      "Epochs : 71 , Loss : 2.1076 , Accuracy : 0.2434\n",
      "Epochs : 72 , Loss : 2.1375 , Accuracy : 0.2105\n",
      "Epochs : 73 , Loss : 2.1180 , Accuracy : 0.2259\n",
      "Epochs : 74 , Loss : 2.1128 , Accuracy : 0.2325\n",
      "Epochs : 75 , Loss : 2.0844 , Accuracy : 0.2610\n",
      "Epochs : 76 , Loss : 2.0729 , Accuracy : 0.2456\n",
      "Epochs : 77 , Loss : 2.0714 , Accuracy : 0.2917\n",
      "Epochs : 78 , Loss : 2.0777 , Accuracy : 0.2478\n",
      "Epochs : 79 , Loss : 2.0758 , Accuracy : 0.2697\n",
      "Epochs : 80 , Loss : 2.0862 , Accuracy : 0.2588\n",
      "Epochs : 81 , Loss : 2.1274 , Accuracy : 0.2697\n",
      "Epochs : 82 , Loss : 2.0812 , Accuracy : 0.2807\n",
      "Epochs : 83 , Loss : 2.0877 , Accuracy : 0.2675\n",
      "Epochs : 84 , Loss : 2.1002 , Accuracy : 0.2675\n",
      "Epochs : 85 , Loss : 2.0746 , Accuracy : 0.2917\n",
      "Epochs : 86 , Loss : 2.0965 , Accuracy : 0.2434\n",
      "Epochs : 87 , Loss : 2.0839 , Accuracy : 0.2873\n",
      "Epochs : 88 , Loss : 2.0703 , Accuracy : 0.2675\n",
      "Epochs : 89 , Loss : 2.0658 , Accuracy : 0.2610\n",
      "Epochs : 90 , Loss : 2.0652 , Accuracy : 0.2588\n",
      "Epochs : 91 , Loss : 2.0872 , Accuracy : 0.2588\n",
      "Epochs : 92 , Loss : 2.0668 , Accuracy : 0.2654\n",
      "Epochs : 93 , Loss : 2.0280 , Accuracy : 0.3180\n",
      "Epochs : 94 , Loss : 2.0534 , Accuracy : 0.2697\n",
      "Epochs : 95 , Loss : 2.0521 , Accuracy : 0.2697\n",
      "Epochs : 96 , Loss : 2.0768 , Accuracy : 0.2939\n",
      "Epochs : 97 , Loss : 2.0152 , Accuracy : 0.3048\n",
      "Epochs : 98 , Loss : 2.1114 , Accuracy : 0.2632\n",
      "Epochs : 99 , Loss : 2.0890 , Accuracy : 0.2522\n",
      "Epochs : 100 , Loss : 2.0678 , Accuracy : 0.3070\n"
     ]
    }
   ],
   "source": [
    "fit(cifar_model , 100, train_dl , loss_func , optim , metric = 'accuracy')"
   ]
  }
 ],
 "metadata": {
  "kernelspec": {
   "display_name": "Python 3",
   "language": "python",
   "name": "python3"
  },
  "language_info": {
   "codemirror_mode": {
    "name": "ipython",
    "version": 3
   },
   "file_extension": ".py",
   "mimetype": "text/x-python",
   "name": "python",
   "nbconvert_exporter": "python",
   "pygments_lexer": "ipython3",
   "version": "3.7.4"
  }
 },
 "nbformat": 4,
 "nbformat_minor": 4
}
